{
 "cells": [
  {
   "cell_type": "code",
   "execution_count": 1,
   "metadata": {},
   "outputs": [],
   "source": [
    "import pandas as pd\n",
    "import numpy as np\n",
    "\n",
    "\n",
    "pd.set_option('display.max_rows', 2000)\n",
    "import warnings\n",
    "warnings.filterwarnings('ignore')\n",
    "\n",
    "from tabula import read_pdf\n",
    "import camelot"
   ]
  },
  {
   "cell_type": "code",
   "execution_count": 24,
   "metadata": {},
   "outputs": [],
   "source": [
    "def get_table(dd):\n",
    "    df = pd.DataFrame()\n",
    "\n",
    "    for i in range(len(dd)):\n",
    "        df = pd.concat([df,dd[i].df], axis=0)\n",
    "\n",
    "    df = df.reset_index(drop=True)\n",
    "\n",
    "    df.columns = df.head(1).values.tolist()[0]\n",
    "\n",
    "    mask = df['VALOR']!='VALOR'\n",
    "    df = df[mask]\n",
    "    df['VALOR'] = df['VALOR'].str.replace('.','')\n",
    "\n",
    "\n",
    "    \n",
    "    \n",
    "    \n",
    "    for col in df.columns[:-1]:\n",
    "        df[col] = df[col].str.replace('\\n',' ').str.strip()\n",
    "    \n",
    "    \n",
    "    df['VALOR'] = pd.to_numeric(df['VALOR'], errors='coerce')\n",
    "    df = df.sort_values(by='VALOR')\n",
    "\n",
    "\n",
    "    return df"
   ]
  },
  {
   "cell_type": "markdown",
   "metadata": {},
   "source": [
    "## 2020"
   ]
  },
  {
   "cell_type": "code",
   "execution_count": 32,
   "metadata": {},
   "outputs": [
    {
     "name": "stdout",
     "output_type": "stream",
     "text": [
      "saude_loaded\n",
      "diversos_loaded\n"
     ]
    }
   ],
   "source": [
    "ano = '2020'\n",
    "file = f'loa_{ano}_final.pdf'\n",
    "pages_saude = '22-63'\n",
    "pages_diversos = '65-118'\n",
    "\n",
    "dd_saude = camelot.read_pdf(f'../files/{file}', pages=pages_saude,kind='grid')\n",
    "print('saude_loaded')\n",
    "\n",
    "dd_diversos = camelot.read_pdf(f'../files/{file}', pages=pages_diversos,kind='grid')\n",
    "print('diversos_loaded')\n",
    "\n",
    "\n"
   ]
  },
  {
   "cell_type": "code",
   "execution_count": 37,
   "metadata": {},
   "outputs": [],
   "source": [
    "diversos = get_table(dd_diversos)\n",
    "diversos.columns = ['parlamentar','entidade','municipio','cnpj','orgao','objeto','valor']\n",
    "\n",
    "saude = get_table(dd_saude)\n",
    "saude['orgao'] = 'SAÚDE'\n",
    "saude.columns = ['parlamentar','entidade','municipio','cnpj','objeto','valor','orgao']\n",
    "saude = saude[diversos.columns]\n",
    "\n",
    "\n",
    "final = pd.concat([saude,diversos], axis=0)\n",
    "\n",
    "final['ano'] = ano\n",
    "final.to_excel(f'../data/emendas/emendas_{ano}.xlsx', index=False)"
   ]
  },
  {
   "cell_type": "code",
   "execution_count": 36,
   "metadata": {},
   "outputs": [],
   "source": []
  },
  {
   "cell_type": "code",
   "execution_count": 26,
   "metadata": {},
   "outputs": [],
   "source": []
  },
  {
   "cell_type": "code",
   "execution_count": null,
   "metadata": {},
   "outputs": [],
   "source": []
  },
  {
   "cell_type": "markdown",
   "metadata": {},
   "source": [
    "## 2019"
   ]
  },
  {
   "cell_type": "code",
   "execution_count": 40,
   "metadata": {},
   "outputs": [
    {
     "name": "stdout",
     "output_type": "stream",
     "text": [
      "saude_loaded\n",
      "diversos_loaded\n"
     ]
    }
   ],
   "source": [
    "ano = '2019'\n",
    "file = f'loa_{ano}_final.pdf'\n",
    "pages_saude = '22-52'\n",
    "pages_diversos = '53-95'\n",
    "\n",
    "dd_saude = camelot.read_pdf(f'../files/{file}', pages=pages_saude,kind='grid')\n",
    "print('saude_loaded')\n",
    "\n",
    "dd_diversos = camelot.read_pdf(f'../files/{file}', pages=pages_diversos,kind='grid')\n",
    "print('diversos_loaded')\n",
    "\n",
    "\n"
   ]
  },
  {
   "cell_type": "code",
   "execution_count": 41,
   "metadata": {},
   "outputs": [],
   "source": [
    "diversos = get_table(dd_diversos)\n",
    "diversos.columns = ['parlamentar','entidade','municipio','cnpj','orgao','objeto','valor']\n",
    "\n",
    "saude = get_table(dd_saude)\n",
    "saude['orgao'] = 'SAÚDE'\n",
    "saude.columns = ['parlamentar','entidade','municipio','cnpj','objeto','valor','orgao']\n",
    "saude = saude[diversos.columns]\n",
    "\n",
    "\n",
    "final = pd.concat([saude,diversos], axis=0)\n"
   ]
  },
  {
   "cell_type": "code",
   "execution_count": 43,
   "metadata": {},
   "outputs": [],
   "source": [
    "final['ano'] = ano\n",
    "final.to_excel(f'../data/emendas/emendas_{ano}.xlsx', index=False)"
   ]
  },
  {
   "cell_type": "code",
   "execution_count": 27,
   "metadata": {},
   "outputs": [],
   "source": []
  },
  {
   "cell_type": "code",
   "execution_count": 28,
   "metadata": {},
   "outputs": [],
   "source": []
  },
  {
   "cell_type": "code",
   "execution_count": 29,
   "metadata": {},
   "outputs": [],
   "source": []
  },
  {
   "cell_type": "markdown",
   "metadata": {},
   "source": [
    "## 2018"
   ]
  },
  {
   "cell_type": "code",
   "execution_count": 44,
   "metadata": {},
   "outputs": [
    {
     "name": "stdout",
     "output_type": "stream",
     "text": [
      "saude_loaded\n",
      "diversos_loaded\n"
     ]
    }
   ],
   "source": [
    "ano = '2018'\n",
    "file = f'loa_{ano}_final.pdf'\n",
    "pages_saude = '22-76'\n",
    "pages_diversos = '77-135'\n",
    "\n",
    "dd_saude = camelot.read_pdf(f'../files/{file}', pages=pages_saude,kind='grid')\n",
    "print('saude_loaded')\n",
    "\n",
    "dd_diversos = camelot.read_pdf(f'../files/{file}', pages=pages_diversos,kind='grid')\n",
    "print('diversos_loaded')\n",
    "\n",
    "\n"
   ]
  },
  {
   "cell_type": "code",
   "execution_count": 45,
   "metadata": {},
   "outputs": [],
   "source": [
    "diversos = get_table(dd_diversos)\n",
    "diversos.columns = ['parlamentar','entidade','municipio','cnpj','orgao','objeto','valor']\n",
    "\n",
    "saude = get_table(dd_saude)\n",
    "saude['orgao'] = 'SAÚDE'\n",
    "saude.columns = ['parlamentar','entidade','municipio','cnpj','objeto','valor','orgao']\n",
    "saude = saude[diversos.columns]\n",
    "\n",
    "\n",
    "final = pd.concat([saude,diversos], axis=0)\n"
   ]
  },
  {
   "cell_type": "code",
   "execution_count": 46,
   "metadata": {},
   "outputs": [],
   "source": [
    "final['ano'] = ano\n",
    "final.to_excel(f'../data/emendas/emendas_{ano}.xlsx', index=False)"
   ]
  },
  {
   "cell_type": "code",
   "execution_count": 30,
   "metadata": {},
   "outputs": [],
   "source": []
  },
  {
   "cell_type": "code",
   "execution_count": null,
   "metadata": {},
   "outputs": [],
   "source": []
  },
  {
   "cell_type": "code",
   "execution_count": null,
   "metadata": {},
   "outputs": [],
   "source": []
  },
  {
   "cell_type": "code",
   "execution_count": null,
   "metadata": {},
   "outputs": [],
   "source": []
  },
  {
   "cell_type": "code",
   "execution_count": null,
   "metadata": {},
   "outputs": [],
   "source": []
  },
  {
   "cell_type": "code",
   "execution_count": null,
   "metadata": {},
   "outputs": [],
   "source": []
  },
  {
   "cell_type": "code",
   "execution_count": null,
   "metadata": {},
   "outputs": [],
   "source": []
  },
  {
   "cell_type": "code",
   "execution_count": null,
   "metadata": {},
   "outputs": [],
   "source": []
  },
  {
   "cell_type": "code",
   "execution_count": null,
   "metadata": {},
   "outputs": [],
   "source": []
  },
  {
   "cell_type": "code",
   "execution_count": null,
   "metadata": {},
   "outputs": [],
   "source": []
  },
  {
   "cell_type": "code",
   "execution_count": null,
   "metadata": {},
   "outputs": [],
   "source": []
  },
  {
   "cell_type": "code",
   "execution_count": null,
   "metadata": {},
   "outputs": [],
   "source": []
  },
  {
   "cell_type": "code",
   "execution_count": null,
   "metadata": {},
   "outputs": [],
   "source": []
  },
  {
   "cell_type": "code",
   "execution_count": null,
   "metadata": {},
   "outputs": [],
   "source": []
  },
  {
   "cell_type": "code",
   "execution_count": null,
   "metadata": {},
   "outputs": [],
   "source": []
  },
  {
   "cell_type": "code",
   "execution_count": null,
   "metadata": {},
   "outputs": [],
   "source": []
  },
  {
   "cell_type": "code",
   "execution_count": null,
   "metadata": {},
   "outputs": [],
   "source": []
  },
  {
   "cell_type": "code",
   "execution_count": null,
   "metadata": {},
   "outputs": [],
   "source": []
  },
  {
   "cell_type": "code",
   "execution_count": null,
   "metadata": {},
   "outputs": [],
   "source": []
  },
  {
   "cell_type": "code",
   "execution_count": null,
   "metadata": {},
   "outputs": [],
   "source": []
  },
  {
   "cell_type": "code",
   "execution_count": null,
   "metadata": {},
   "outputs": [],
   "source": []
  },
  {
   "cell_type": "code",
   "execution_count": null,
   "metadata": {},
   "outputs": [],
   "source": []
  },
  {
   "cell_type": "code",
   "execution_count": null,
   "metadata": {},
   "outputs": [],
   "source": []
  },
  {
   "cell_type": "code",
   "execution_count": null,
   "metadata": {},
   "outputs": [],
   "source": []
  },
  {
   "cell_type": "code",
   "execution_count": null,
   "metadata": {},
   "outputs": [],
   "source": []
  }
 ],
 "metadata": {
  "kernelspec": {
   "display_name": "Python 3",
   "language": "python",
   "name": "python3"
  },
  "language_info": {
   "codemirror_mode": {
    "name": "ipython",
    "version": 3
   },
   "file_extension": ".py",
   "mimetype": "text/x-python",
   "name": "python",
   "nbconvert_exporter": "python",
   "pygments_lexer": "ipython3",
   "version": "3.7.6"
  }
 },
 "nbformat": 4,
 "nbformat_minor": 4
}
