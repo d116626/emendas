{
 "cells": [
  {
   "cell_type": "code",
   "execution_count": 10,
   "metadata": {},
   "outputs": [],
   "source": [
    "import pandas as pd\n",
    "import numpy as np"
   ]
  },
  {
   "cell_type": "code",
   "execution_count": 11,
   "metadata": {},
   "outputs": [],
   "source": [
    "\n",
    "\n",
    "import glob, os\n",
    "\n",
    "path_files = '../data/emendas/'\n",
    "\n",
    "\n",
    "df = pd.concat(map(pd.read_excel, glob.glob(os.path.join('', f\"{path_files}*.xlsx\"))))\n",
    "\n"
   ]
  },
  {
   "cell_type": "code",
   "execution_count": 12,
   "metadata": {},
   "outputs": [],
   "source": [
    "mask = df['parlamentar'].notnull()\n",
    "df = df[mask]\n"
   ]
  },
  {
   "cell_type": "code",
   "execution_count": 14,
   "metadata": {},
   "outputs": [
    {
     "data": {
      "text/html": [
       "<div>\n",
       "<style scoped>\n",
       "    .dataframe tbody tr th:only-of-type {\n",
       "        vertical-align: middle;\n",
       "    }\n",
       "\n",
       "    .dataframe tbody tr th {\n",
       "        vertical-align: top;\n",
       "    }\n",
       "\n",
       "    .dataframe thead th {\n",
       "        text-align: right;\n",
       "    }\n",
       "</style>\n",
       "<table border=\"1\" class=\"dataframe\">\n",
       "  <thead>\n",
       "    <tr style=\"text-align: right;\">\n",
       "      <th></th>\n",
       "      <th>parlamentar</th>\n",
       "      <th>entidade</th>\n",
       "      <th>municipio</th>\n",
       "      <th>cnpj</th>\n",
       "      <th>orgao</th>\n",
       "      <th>objeto</th>\n",
       "      <th>valor</th>\n",
       "      <th>ano</th>\n",
       "    </tr>\n",
       "  </thead>\n",
       "  <tbody>\n",
       "    <tr>\n",
       "      <th>0</th>\n",
       "      <td>DAVI ZAIA</td>\n",
       "      <td>AACD - A. A. C. DEFICIENTE</td>\n",
       "      <td>60.979.457/0001-11</td>\n",
       "      <td>SÃO PAULO</td>\n",
       "      <td>SAÚDE</td>\n",
       "      <td>CUSTEIO.</td>\n",
       "      <td>20000.0</td>\n",
       "      <td>2018</td>\n",
       "    </tr>\n",
       "    <tr>\n",
       "      <th>1</th>\n",
       "      <td>JOÃO PAULO RILLO</td>\n",
       "      <td>PREFEITURA MUNICIPAL</td>\n",
       "      <td>46.935.763/0001-25</td>\n",
       "      <td>PLANALTO</td>\n",
       "      <td>SAÚDE</td>\n",
       "      <td>CUSTEIO</td>\n",
       "      <td>30000.0</td>\n",
       "      <td>2018</td>\n",
       "    </tr>\n",
       "    <tr>\n",
       "      <th>2</th>\n",
       "      <td>JOÃO PAULO RILLO</td>\n",
       "      <td>PREFEITURA MUNICIPAL</td>\n",
       "      <td>45.094.232/0001-94</td>\n",
       "      <td>NOVA ALIANÇA</td>\n",
       "      <td>SAÚDE</td>\n",
       "      <td>CUSTEIO</td>\n",
       "      <td>30000.0</td>\n",
       "      <td>2018</td>\n",
       "    </tr>\n",
       "    <tr>\n",
       "      <th>3</th>\n",
       "      <td>JOÃO PAULO RILLO</td>\n",
       "      <td>PREFEITURA MUNICIPAL</td>\n",
       "      <td>45.141.132/0001-71</td>\n",
       "      <td>JOSÉ BONIFÁCIO</td>\n",
       "      <td>SAÚDE</td>\n",
       "      <td>CUSTEIO DA UBS DO DISTRITO  DE SANTA LUZIA</td>\n",
       "      <td>30000.0</td>\n",
       "      <td>2018</td>\n",
       "    </tr>\n",
       "    <tr>\n",
       "      <th>4</th>\n",
       "      <td>JOÃO PAULO RILLO</td>\n",
       "      <td>PREFEITURA MUNICIPAL</td>\n",
       "      <td>45.131.885/0001-04</td>\n",
       "      <td>JALES</td>\n",
       "      <td>SAÚDE</td>\n",
       "      <td>CUSTEIO</td>\n",
       "      <td>30000.0</td>\n",
       "      <td>2018</td>\n",
       "    </tr>\n",
       "  </tbody>\n",
       "</table>\n",
       "</div>"
      ],
      "text/plain": [
       "        parlamentar                    entidade           municipio  \\\n",
       "0         DAVI ZAIA  AACD - A. A. C. DEFICIENTE  60.979.457/0001-11   \n",
       "1  JOÃO PAULO RILLO        PREFEITURA MUNICIPAL  46.935.763/0001-25   \n",
       "2  JOÃO PAULO RILLO        PREFEITURA MUNICIPAL  45.094.232/0001-94   \n",
       "3  JOÃO PAULO RILLO        PREFEITURA MUNICIPAL  45.141.132/0001-71   \n",
       "4  JOÃO PAULO RILLO        PREFEITURA MUNICIPAL  45.131.885/0001-04   \n",
       "\n",
       "             cnpj  orgao                                      objeto    valor  \\\n",
       "0       SÃO PAULO  SAÚDE                                    CUSTEIO.  20000.0   \n",
       "1        PLANALTO  SAÚDE                                     CUSTEIO  30000.0   \n",
       "2    NOVA ALIANÇA  SAÚDE                                     CUSTEIO  30000.0   \n",
       "3  JOSÉ BONIFÁCIO  SAÚDE  CUSTEIO DA UBS DO DISTRITO  DE SANTA LUZIA  30000.0   \n",
       "4           JALES  SAÚDE                                     CUSTEIO  30000.0   \n",
       "\n",
       "    ano  \n",
       "0  2018  \n",
       "1  2018  \n",
       "2  2018  \n",
       "3  2018  \n",
       "4  2018  "
      ]
     },
     "execution_count": 14,
     "metadata": {},
     "output_type": "execute_result"
    }
   ],
   "source": [
    "df.head()"
   ]
  },
  {
   "cell_type": "code",
   "execution_count": 16,
   "metadata": {},
   "outputs": [],
   "source": [
    "df.to_excel('../data/emendas_consolidado/emendas_consolidado_2018-2020.xlsx', index=False)"
   ]
  },
  {
   "cell_type": "code",
   "execution_count": null,
   "metadata": {},
   "outputs": [],
   "source": []
  },
  {
   "cell_type": "code",
   "execution_count": null,
   "metadata": {},
   "outputs": [],
   "source": []
  },
  {
   "cell_type": "code",
   "execution_count": null,
   "metadata": {},
   "outputs": [],
   "source": []
  },
  {
   "cell_type": "code",
   "execution_count": null,
   "metadata": {},
   "outputs": [],
   "source": []
  },
  {
   "cell_type": "code",
   "execution_count": null,
   "metadata": {},
   "outputs": [],
   "source": []
  },
  {
   "cell_type": "code",
   "execution_count": null,
   "metadata": {},
   "outputs": [],
   "source": []
  },
  {
   "cell_type": "code",
   "execution_count": null,
   "metadata": {},
   "outputs": [],
   "source": []
  },
  {
   "cell_type": "code",
   "execution_count": null,
   "metadata": {},
   "outputs": [],
   "source": []
  },
  {
   "cell_type": "code",
   "execution_count": null,
   "metadata": {},
   "outputs": [],
   "source": []
  }
 ],
 "metadata": {
  "kernelspec": {
   "display_name": "Python 3",
   "language": "python",
   "name": "python3"
  },
  "language_info": {
   "codemirror_mode": {
    "name": "ipython",
    "version": 3
   },
   "file_extension": ".py",
   "mimetype": "text/x-python",
   "name": "python",
   "nbconvert_exporter": "python",
   "pygments_lexer": "ipython3",
   "version": "3.7.6"
  }
 },
 "nbformat": 4,
 "nbformat_minor": 4
}
