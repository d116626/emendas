{
 "cells": [
  {
   "cell_type": "code",
   "execution_count": 43,
   "id": "a377b3d2-4d6e-4466-a299-912afbffd740",
   "metadata": {},
   "outputs": [],
   "source": [
    "## caged_brach\n",
    "%reload_ext autoreload\n",
    "%autoreload 2\n",
    "\n",
    "import pandas as pd\n",
    "import numpy as np\n",
    "\n",
    "pd.options.display.max_columns = 999\n",
    "pd.options.display.max_rows = 1999\n",
    "pd.options.display.max_colwidth = 200\n",
    "\n",
    "import basedosdados as bd\n",
    "\n",
    "from io import StringIO\n",
    "import requests"
   ]
  },
  {
   "cell_type": "code",
   "execution_count": 23,
   "id": "4a85b3c4-f93e-4582-8df2-3f97cfdfc221",
   "metadata": {},
   "outputs": [],
   "source": [
    "def _sheet_to_df(columns_config_url):\n",
    "    url = columns_config_url.replace(\"edit#gid=\", \"export?format=csv&gid=\")\n",
    "\n",
    "    return pd.read_csv(StringIO(requests.get(url).content.decode(\"utf-8\")))\n",
    "    \n",
    "def normalize_cols(df):\n",
    "    return (\n",
    "        df.str.normalize(\"NFKD\")\n",
    "        .str.encode(\"ascii\", errors=\"ignore\")\n",
    "        .str.decode(\"utf-8\")\n",
    "        .str.title()\n",
    "\n",
    "    )"
   ]
  },
  {
   "cell_type": "code",
   "execution_count": 31,
   "id": "809362de-a30c-4719-bbc9-147694046a49",
   "metadata": {},
   "outputs": [],
   "source": [
    "df = _sheet_to_df(\"https://docs.google.com/spreadsheets/d/1kfmQCZtRqc4msId0mtCwXbgAmubLm4SS_ReqMLm4Gz0/edit#gid=439989260\")"
   ]
  },
  {
   "cell_type": "code",
   "execution_count": 32,
   "id": "8df7c492-8958-4731-8990-140daa781307",
   "metadata": {},
   "outputs": [
    {
     "data": {
      "text/plain": [
       "Index(['ano', 'DEPUTADO (A)', 'RECEBEDOR', 'BENEFICIÁRIO', 'LOCAL', 'CNPJ',\n",
       "       'FONTE DOS RECURSOS', 'OBJETO', 'ESPECIFICAÇÃO', 'ORIGEM', 'TEMA',\n",
       "       'ÁREA', 'VALOR', 'LATLON', 'FINALIDADE', 'FINALIDADE_WRAP'],\n",
       "      dtype='object')"
      ]
     },
     "execution_count": 32,
     "metadata": {},
     "output_type": "execute_result"
    }
   ],
   "source": [
    "df.columns"
   ]
  },
  {
   "cell_type": "code",
   "execution_count": 33,
   "id": "f648f427-8a5e-4735-9c85-9c169bf98264",
   "metadata": {},
   "outputs": [],
   "source": [
    "mask = df['ÁREA'] == 'SAÚDE'\n",
    "\n",
    "cols = ['ÁREA','LOCAL','BENEFICIÁRIO','VALOR']\n",
    "df = df[mask][cols]\n",
    "df['nome'] = normalize_cols(df['LOCAL'])"
   ]
  },
  {
   "cell_type": "code",
   "execution_count": 26,
   "id": "7e0d4f76-7d43-4e9a-890a-c616a4ecd8cf",
   "metadata": {},
   "outputs": [
    {
     "name": "stderr",
     "output_type": "stream",
     "text": [
      "Downloading: 100%|███████████████████████████████████████████████████| 40/40 [00:00<00:00, 105.89rows/s]\n"
     ]
    }
   ],
   "source": [
    "query = \"\"\"\n",
    "SELECT\n",
    "  t1.id_municipio,\n",
    "  t1.nome,\n",
    "  t1.mesorregiao,\n",
    "  t2.populacao \n",
    "FROM `basedosdados.br_bd_diretorios_brasil.municipio` t1\n",
    "JOIN `basedosdados.br_ibge_populacao.municipio` t2 \n",
    "  ON t1.id_municipio = t2.id_municipio \n",
    "WHERE t1.sigla_uf='SP' \n",
    "  AND (t1.mesorregiao = 'Vale do Paraíba Paulista' or t1.id_municipio='3530607')\n",
    "  AND t2.ano=2020\n",
    "\"\"\"\n",
    "\n",
    "pop = bd.read_sql(query, billing_project_id='basedosdados-dev')"
   ]
  },
  {
   "cell_type": "code",
   "execution_count": 29,
   "id": "fbd23fa8-1450-4ece-bbda-a9c15bdf9f28",
   "metadata": {},
   "outputs": [],
   "source": [
    "pop['nome'] = normalize_cols(pop['nome'])"
   ]
  },
  {
   "cell_type": "code",
   "execution_count": 36,
   "id": "ebaa357d-c70d-48f2-a758-033dd74ebc97",
   "metadata": {},
   "outputs": [],
   "source": [
    "dd = df.merge(pop, how='left', on='nome')"
   ]
  },
  {
   "cell_type": "code",
   "execution_count": 40,
   "id": "2e3b798b-971f-484e-ae3a-f332ecf9924e",
   "metadata": {},
   "outputs": [
    {
     "data": {
      "text/plain": [
       "2117388"
      ]
     },
     "execution_count": 40,
     "metadata": {},
     "output_type": "execute_result"
    }
   ],
   "source": [
    "dd.drop_duplicates(subset=['id_municipio'])['populacao'].sum()"
   ]
  },
  {
   "cell_type": "code",
   "execution_count": 42,
   "id": "2081ecdc-fc9b-4f8d-9f4d-cafd7f72aac4",
   "metadata": {},
   "outputs": [
    {
     "data": {
      "text/plain": [
       "(21, 8)"
      ]
     },
     "execution_count": 42,
     "metadata": {},
     "output_type": "execute_result"
    }
   ],
   "source": [
    "dd.drop_duplicates(subset=['id_municipio']).shape"
   ]
  },
  {
   "cell_type": "code",
   "execution_count": null,
   "id": "a4edcb8b-4466-4ac1-978f-5bf75b45e6cf",
   "metadata": {},
   "outputs": [],
   "source": []
  },
  {
   "cell_type": "code",
   "execution_count": null,
   "id": "7c1e6cfc-d49c-4a95-bae7-b5236d5f0bfa",
   "metadata": {},
   "outputs": [],
   "source": []
  },
  {
   "cell_type": "code",
   "execution_count": 35,
   "id": "d96af843-bb31-4332-8046-70794ef16299",
   "metadata": {},
   "outputs": [
    {
     "data": {
      "text/plain": [
       "(30, 5)"
      ]
     },
     "execution_count": 35,
     "metadata": {},
     "output_type": "execute_result"
    }
   ],
   "source": [
    "df.shape"
   ]
  },
  {
   "cell_type": "code",
   "execution_count": null,
   "id": "b4a98dba-14e4-4700-95e4-183bb423c7b1",
   "metadata": {},
   "outputs": [],
   "source": []
  },
  {
   "cell_type": "code",
   "execution_count": null,
   "id": "8e404642-7eae-4c3a-95d5-d5d5cd2504bc",
   "metadata": {},
   "outputs": [],
   "source": []
  },
  {
   "cell_type": "code",
   "execution_count": null,
   "id": "54e4ebcd-90f1-4a4a-8ff7-99dcda7cca6b",
   "metadata": {},
   "outputs": [],
   "source": []
  },
  {
   "cell_type": "code",
   "execution_count": null,
   "id": "de6fb011-70c5-4d1a-bed7-4d25c3522786",
   "metadata": {},
   "outputs": [],
   "source": []
  },
  {
   "cell_type": "code",
   "execution_count": null,
   "id": "03a74a07-ea99-4b51-9f1c-b835943dd7cf",
   "metadata": {},
   "outputs": [],
   "source": []
  },
  {
   "cell_type": "code",
   "execution_count": null,
   "id": "53d574e4-8bc8-45eb-aef6-3ac922240d58",
   "metadata": {},
   "outputs": [],
   "source": []
  },
  {
   "cell_type": "code",
   "execution_count": null,
   "id": "e931dfe3-93b5-4628-865e-334419188d90",
   "metadata": {},
   "outputs": [],
   "source": []
  },
  {
   "cell_type": "code",
   "execution_count": null,
   "id": "1a7e1017-26be-4261-aece-16bd34bf82d4",
   "metadata": {},
   "outputs": [],
   "source": []
  },
  {
   "cell_type": "code",
   "execution_count": null,
   "id": "6c6f49f1-1c92-40f7-9e00-5e01e2286aa6",
   "metadata": {},
   "outputs": [],
   "source": []
  },
  {
   "cell_type": "code",
   "execution_count": null,
   "id": "ae43c4b9-5398-43cc-9330-7fdad0acc99c",
   "metadata": {},
   "outputs": [],
   "source": []
  },
  {
   "cell_type": "code",
   "execution_count": null,
   "id": "56e09137-eacf-4a29-bd8b-dfdea1cfd70e",
   "metadata": {},
   "outputs": [],
   "source": []
  },
  {
   "cell_type": "code",
   "execution_count": null,
   "id": "b5ea1eca-2338-46c4-bae0-6fa0b1eadaa9",
   "metadata": {},
   "outputs": [],
   "source": []
  }
 ],
 "metadata": {
  "kernelspec": {
   "display_name": "Python 3.9.1 64-bit ('base': conda)",
   "language": "python",
   "name": "python391jvsc74a57bd09265c6d278ff067d4da8b5e0a1d20cb7aab3603d0caea247effcbced8f1ecd4c"
  },
  "language_info": {
   "codemirror_mode": {
    "name": "ipython",
    "version": 3
   },
   "file_extension": ".py",
   "mimetype": "text/x-python",
   "name": "python",
   "nbconvert_exporter": "python",
   "pygments_lexer": "ipython3",
   "version": "3.9.1"
  }
 },
 "nbformat": 4,
 "nbformat_minor": 5
}
