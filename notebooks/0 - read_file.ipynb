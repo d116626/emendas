{
 "cells": [
  {
   "cell_type": "code",
   "execution_count": 1,
   "metadata": {},
   "outputs": [],
   "source": [
    "import pandas as pd\n",
    "import numpy as np\n",
    "\n",
    "import folium\n",
    "from folium.plugins import MarkerCluster\n",
    "from folium.plugins import HeatMap\n",
    "\n",
    "import geopandas as gpd\n"
   ]
  },
  {
   "cell_type": "code",
   "execution_count": 2,
   "metadata": {},
   "outputs": [
    {
     "name": "stderr",
     "output_type": "stream",
     "text": [
      "/home/m/anaconda3/lib/python3.7/site-packages/ipykernel_launcher.py:9: FutureWarning: Sorting because non-concatenation axis is not aligned. A future version\n",
      "of pandas will change to not sort by default.\n",
      "\n",
      "To accept the future behavior, pass 'sort=False'.\n",
      "\n",
      "To retain the current behavior and silence the warning, pass 'sort=True'.\n",
      "\n",
      "  if __name__ == '__main__':\n"
     ]
    }
   ],
   "source": [
    "maps = gpd.read_file('../data/sp_municipios.json')\n",
    "\n",
    "mask = maps['nome_mesorregiao']=='Vale do Paraíba Paulista'\n",
    "\n",
    "vale = maps[mask]\n",
    "\n",
    "sp = maps[np.logical_not(mask)].dissolve(by='uf', as_index=False)\n",
    "\n",
    "sp_vale = pd.concat([vale,sp],axis=0)\n",
    "sp_vale = gpd.GeoDataFrame(sp_vale)\n",
    "sp_vale.crs = {'init' :'epsg:4326'}"
   ]
  },
  {
   "cell_type": "code",
   "execution_count": 3,
   "metadata": {},
   "outputs": [],
   "source": [
    "df = pd.read_excel('../data/emendas_impositivas.xlsx')\n",
    "mask = df['LONGITUDE LATITUDE']!=\"ESCOLAS A, DEFINIR \"\n",
    "df = df[mask]\n",
    "\n",
    "df['value'] = (df['VALOR']/1000).astype(int).astype(str) + \" mil\"\n",
    "\n",
    "df['LOCAL'] = df['LOCAL'].str.upper()\n",
    "df['BENEFICIÁRIO'] = df['BENEFICIÁRIO'].str.upper()\n",
    "\n",
    "\n",
    "\n",
    "\n",
    "\n",
    "# df['FINALIDADE'] = df['FINALIDADE'].str.replace('•',\"\")\n",
    "# df['FINALIDADE'] = df['FINALIDADE'].str.replace('•',\"<br> <br> •\") \n",
    "\n",
    "df['lat'] = df['LONGITUDE LATITUDE'].str.replace(\"@\",'').apply(lambda x: x.split(\",\")[0])\n",
    "df['lng'] = df['LONGITUDE LATITUDE'].str.replace(\"@\",'').apply(lambda x: x.split(\",\")[1])\n",
    "\n",
    "locations = df[['lat', 'lng']]\n",
    "locationlist = locations.values.tolist()"
   ]
  },
  {
   "cell_type": "code",
   "execution_count": 4,
   "metadata": {},
   "outputs": [],
   "source": [
    "# df.to_excel('emendas.xlsx', index=False, encoding='utf-8')"
   ]
  },
  {
   "cell_type": "code",
   "execution_count": 6,
   "metadata": {},
   "outputs": [
    {
     "data": {
      "text/plain": [
       "<folium.features.GeoJson at 0x7f9f9512ee50>"
      ]
     },
     "execution_count": 6,
     "metadata": {},
     "output_type": "execute_result"
    }
   ],
   "source": [
    "\n",
    "map2 = folium.Map(location=[-23.061443,-45.8838777], zoom_start=8, tiles = 'cartodbpositron', min_zoom=7 ,max_zoom=18)\n",
    "\n",
    "# marker_cluster = MarkerCluster(overlay=False,control=False, show=False).add_to(map2)\n",
    "\n",
    "municipio = df['LOCAL'].tolist()\n",
    "valor     = df['value'].tolist()\n",
    "beneficiario  = df['BENEFICIÁRIO'].tolist()\n",
    "finalidade  = df['FINALIDADE'].tolist()\n",
    "\n",
    "\n",
    "\n",
    "for i in range(0, len(locationlist)):\n",
    "    \n",
    "\n",
    "    text = \"<b>Municipio:</b> \" + str(municipio[i]) \\\n",
    "    + '<br>''<br>'+ \"<b>Entidade:</b> \"+ str(beneficiario[i]) \\\n",
    "    + '<br>''<br>' \"<b>Valor:</b> \"+ str(valor[i]) \\\n",
    "    + '<br>''<br>' \"<b>Finalidade:</b> \"+ str(finalidade[i]) \n",
    "    \n",
    "    size=1.2\n",
    "    popup = text\n",
    "    iframe = folium.IFrame(text, width=400*size, height=300*size,     ratio='70%')\n",
    "    popup = folium.Popup(iframe,    max_width='100%')\n",
    "\n",
    "    folium.Marker(locationlist[i], popup=popup, icon=folium.Icon(color='orange', icon='info-sign')).add_to(map2)\n",
    "    \n",
    "#     folium.CircleMarker(location=locationlist[i],\n",
    "#                             radius= var[i] * factor,\n",
    "#                             color=\"#007849\",\n",
    "#                             popup=string,\n",
    "#                             fill=False).add_to(map2)\n",
    "#     print(var[i])\n",
    "\n",
    "# HeatMap(data=hospitais_assis[['lat','lng','var']].values.tolist(), radius=20, max_zoom=13).add_to(map2)\n",
    "\n",
    "style = {'fillColor': '#00000000', 'color': '#366172'}\n",
    "folium.GeoJson(sp_vale['geometry'], style_function=lambda x: style).add_to(map2)\n",
    "    \n",
    "# map2!"
   ]
  },
  {
   "cell_type": "code",
   "execution_count": 7,
   "metadata": {},
   "outputs": [],
   "source": [
    "map2.save('map.html')\n",
    "map2.save('../../sample_pages/images/emendas/map.html')"
   ]
  },
  {
   "cell_type": "code",
   "execution_count": null,
   "metadata": {},
   "outputs": [],
   "source": []
  },
  {
   "cell_type": "code",
   "execution_count": null,
   "metadata": {},
   "outputs": [],
   "source": []
  },
  {
   "cell_type": "code",
   "execution_count": null,
   "metadata": {},
   "outputs": [],
   "source": []
  },
  {
   "cell_type": "code",
   "execution_count": null,
   "metadata": {},
   "outputs": [],
   "source": []
  }
 ],
 "metadata": {
  "kernelspec": {
   "display_name": "Python 3",
   "language": "python",
   "name": "python3"
  },
  "language_info": {
   "codemirror_mode": {
    "name": "ipython",
    "version": 3
   },
   "file_extension": ".py",
   "mimetype": "text/x-python",
   "name": "python",
   "nbconvert_exporter": "python",
   "pygments_lexer": "ipython3",
   "version": "3.7.4"
  }
 },
 "nbformat": 4,
 "nbformat_minor": 4
}
